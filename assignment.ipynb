{
 "cells": [
  {
   "cell_type": "code",
   "execution_count": null,
   "metadata": {},
   "outputs": [],
   "source": [
    "# Task 1: A while loop that prints even numbers from 0 to 20; stopping at 16\n",
    "number = 0\n",
    "while number <= 20:\n",
    "   if number == 18:\n",
    "      break # stop when number reaches 16 (but after printing 16)\n",
    "   if number % 2 == 0:\n",
    "      print(number)\n",
    "   number += 2 "
   ]
  },
  {
   "cell_type": "code",
   "execution_count": null,
   "metadata": {},
   "outputs": [],
   "source": [
    "# Task 2: for loop with continue\n",
    "for num in range(1, 16):\n",
    "    if num % 3 == 0:\n",
    "        continue # skip numbers that are divisible by 3\n",
    "    print(num)"
   ]
  },
  {
   "cell_type": "code",
   "execution_count": null,
   "metadata": {},
   "outputs": [],
   "source": [
    "# Task 3: if-else statement that checks if the given number is \"positive, negatve, or zero\"\n",
    "number = int(input(\"Enter a number: \")) # Taking user input\n",
    "\n",
    "if number < 0:\n",
    "    print(\"Negative\")\n",
    "elif number == 0:\n",
    "    print(\"Zero\")\n",
    "else:\n",
    "    print(\"Positive\")"
   ]
  },
  {
   "cell_type": "code",
   "execution_count": null,
   "metadata": {},
   "outputs": [],
   "source": [
    "# Task 4: Nested loops thet prints multiplication table for numbers 1 through 5\n",
    "for i in range(1, 6): # Outer loop for rows (1 to 5)\n",
    "    for j in range(1, 6): # Inner loop for columns (1 to 5)\n",
    "        print(i * j, end=\"\\t\") # Print multiplication result with tab spacing\n",
    "    print() # Move to next line after each row"
   ]
  }
 ],
 "metadata": {
  "language_info": {
   "name": "python"
  }
 },
 "nbformat": 4,
 "nbformat_minor": 2
}
